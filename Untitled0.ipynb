{
  "nbformat": 4,
  "nbformat_minor": 0,
  "metadata": {
    "colab": {
      "provenance": [],
      "mount_file_id": "1FYry_SB0e25snNOQ06ioQhUz_62oEaOZ",
      "authorship_tag": "ABX9TyNVQN6/2pu18hObd/Dk3EUe",
      "include_colab_link": true
    },
    "kernelspec": {
      "name": "python3",
      "display_name": "Python 3"
    },
    "language_info": {
      "name": "python"
    }
  },
  "cells": [
    {
      "cell_type": "markdown",
      "metadata": {
        "id": "view-in-github",
        "colab_type": "text"
      },
      "source": [
        "<a href=\"https://colab.research.google.com/github/putriiandiniii09-ctrl/Pemrograman-Dasar/blob/main/Untitled0.ipynb\" target=\"_parent\"><img src=\"https://colab.research.google.com/assets/colab-badge.svg\" alt=\"Open In Colab\"/></a>"
      ]
    },
    {
      "cell_type": "code",
      "execution_count": 29,
      "metadata": {
        "colab": {
          "base_uri": "https://localhost:8080/"
        },
        "id": "0XHbCOvNdRLQ",
        "outputId": "2024dbf7-d7cc-48b4-ce31-627eb4d1a35d"
      },
      "outputs": [
        {
          "output_type": "stream",
          "name": "stdout",
          "text": [
            "Putri\n",
            "20\n",
            "RPE\n",
            "3\n",
            "Pemrograman Dasar\n",
            "False\n",
            "Adam\n",
            "andiniieee\n",
            "komplek nurul jadid blok e no 28\n"
          ]
        }
      ],
      "source": [
        "# Biodata Saya\n",
        "\n",
        "nama = \"Putri\"\n",
        "umur = 20\n",
        "jurusan = \"RPE\"\n",
        "semester = 3\n",
        "matakuliah = 'Pemrograman Dasar'\n",
        "status_lulus = False\n",
        "pasangan_hidup = 'Adam'\n",
        "nama_instagram = 'andiniieee'\n",
        "Alamat_yang_lengkap = 'komplek nurul jadid blok e no 28'\n",
        "\n",
        "print (nama)\n",
        "print (umur)\n",
        "print (jurusan)\n",
        "print (semester)\n",
        "print (matakuliah)\n",
        "print (status_lulus)\n",
        "print (pasangan_hidup)\n",
        "print (nama_instagram)\n",
        "print (Alamat_yang_lengkap)\n",
        "\n",
        "\n"
      ]
    }
  ]
}